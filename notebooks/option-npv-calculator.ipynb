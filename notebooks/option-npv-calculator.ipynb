{
  "nbformat": 4,
  "nbformat_minor": 0,
  "metadata": {
    "colab": {
      "provenance": [],
      "history_visible": true
    },
    "kernelspec": {
      "name": "python3",
      "display_name": "Python 3"
    },
    "language_info": {
      "name": "python"
    }
  },
  "cells": [
    {
      "cell_type": "markdown",
      "source": [
        "# Stock Option NPV Calculator\n",
        "\n",
        "This tool uses a Monte Carlo simulation to determine the net present value of stock options with a given expiry time, strike price, and model of the potential future trajectory of the underlying share price. To use the model, specify\n",
        "\n",
        "\n",
        "\n",
        "1.   **Today's share price** - for a private company, this can be your estimate of the price that the shares could be sold for if the company had a liquidity event such as an exit.\n",
        "2.   **Option strike price** - at what price can the options be sold?\n",
        "3.   **Growth rate IQR** - this is the 25th and 75th percentile expected growth rate of the share price over the coming years. The model will run simulations estimating the future share price by applying a normal distribution that has these percentile values.\n",
        "4.   **Growth rate limits** - because a normal distribution can include extremely low or high outlier values, we set a minimum and maximum limit on the growth rate and clamp the normal distribution so that it does not contain values outside of these limits. While this clamped distribution is not technically a normal distribution, we find the simulation is more realistic with limits in place, because most companies do have a likely lower and upper bound on their share price growth rate.\n",
        "5.   **Target NPV*** - the target net present value of the stock options. Setting this target allows the model to search for the number of stock options that you should grant with the above-mentioned assumptions about share price, strike price, and growth, to achieve a given net present value. If your goal is to give an employee $50,000 of additional income from stock options in your company, then set the Target NPV to 50_000 and the model will do the rest.\n",
        "6.   **Discount rate** - every growth scenario should be discounted to reflect the riskless growth rate of money that could otherwise be invested in government bonds or other riskless assets. Setting a discount rate of 5%, or to a value that reflects what rate of return you could earn by purchasing a guaranteed bank deposit, is probably the right approach.\n"
      ],
      "metadata": {
        "id": "WVUunYwNMTQT"
      }
    },
    {
      "cell_type": "code",
      "execution_count": 1,
      "metadata": {
        "id": "vy-kvAOKKfXu"
      },
      "outputs": [],
      "source": [
        "# Generic Stock Option Pricing Calculator\n",
        "#\n",
        "# Copyright 2024 MailChannels Corporation\n",
        "# All Rights Reserved\n",
        "#\n",
        "# This source code is placed in the public domain.\n",
        "\n",
        "import functools\n",
        "import numpy as np\n",
        "\n",
        "\n",
        "SHARE_PRICE = 5.93 #@param {type: \"number\"}\n",
        "STRIKE_DISCOUNT = 10 #@param {type: \"number\", min: 0, max: 100}\n",
        "STRIKE_PRICE = SHARE_PRICE * (1 - STRIKE_DISCOUNT/100)\n",
        "DISCOUNT_RATE = 0.05 #@param {type: \"number\"}\n",
        "TARGET_NPV = 82500 #@param {type: \"number\"}\n",
        "SHARE_GROWTH_LOW_PCT = 0 #@param {type: \"number\"}\n",
        "SHARE_GROWTH_HIGH_PCT = 25 #@param {type: \"number\"}\n",
        "SHARE_GROWTH_MIN_PCT = -20 #@param {type: \"number\"}\n",
        "SHARE_GROWTH_MAX_PCT = 55 #@param {type: \"number\"}\n",
        "YEARS = 5 #@param {type: \"number\"}\n",
        "GROWTH_IQR = (SHARE_GROWTH_LOW_PCT/100,SHARE_GROWTH_HIGH_PCT/100)\n",
        "GROWTH_LIMITS = (SHARE_GROWTH_MIN_PCT/100, SHARE_GROWTH_MAX_PCT/100)\n",
        "\n",
        "\n",
        "def quick_npv(num_options):\n",
        "    return stock_option_npv(num_options, SHARE_PRICE, STRIKE_PRICE, GROWTH_IQR, GROWTH_LIMITS, risk_free_rate=DISCOUNT_RATE)\n",
        "\n",
        "def quick_options(target_npv):\n",
        "    return options_for_target_npv(target_npv, SHARE_PRICE, STRIKE_PRICE, GROWTH_IQR, GROWTH_LIMITS, risk_free_rate=DISCOUNT_RATE)\n",
        "\n",
        "@functools.lru_cache(maxsize=None)\n",
        "def iqr_distribution(P25, P75, min_val, max_val, size=100000):\n",
        "    \"\"\"\n",
        "    Generate a normal distribution with a given 25th and 75th percentile value and filter out values outside the specified range.\n",
        "    Ensures the returned distribution has the desired number of samples.\n",
        "\n",
        "    Args:\n",
        "      P25:   25th percentile value\n",
        "      P75:   75th percentile value\n",
        "      size:  number of samples\n",
        "      min_val:   minimum value; values below this will be discarded\n",
        "      max_val:   maximum value\n",
        "\n",
        "    Returns:\n",
        "      distribution: Generated and filtered distribution with the desired number of samples\n",
        "    \"\"\"\n",
        "    # Calculate mean (μ) and standard deviation (σ)\n",
        "    mu = (P25 + P75) / 2\n",
        "    sigma = (P75 - P25) / (2 * 0.674)\n",
        "\n",
        "    # Initialize an empty list to hold the valid samples\n",
        "    valid_samples = []\n",
        "\n",
        "    # Generate and filter samples until we reach the desired size\n",
        "    more = size\n",
        "    while len(valid_samples) < size:\n",
        "        # Generate the normal distribution\n",
        "        distribution = np.random.normal(mu, sigma, more)\n",
        "\n",
        "        # Filter out values outside the specified range\n",
        "        filtered_distribution = distribution[(distribution >= min_val) & (distribution <= max_val)]\n",
        "\n",
        "        # Add the valid samples to the list\n",
        "        valid_samples.extend(filtered_distribution)\n",
        "\n",
        "        more = int(1.1 * (size / len(valid_samples)) * (size - len(valid_samples)))\n",
        "\n",
        "    # Trim the list to the desired size\n",
        "    valid_samples = valid_samples[:size]\n",
        "    return np.array(valid_samples)\n",
        "\n",
        "@functools.lru_cache(maxsize=None)\n",
        "def stock_option_npv(num_options, current_price, strike_price, growth_rate_iqr, growth_rate_limits, risk_free_rate=0.05, num_simulations=100000, num_years=YEARS):\n",
        "    \"\"\"\n",
        "    Find the net present value of a stock option.\n",
        "\n",
        "    Args:\n",
        "      num_options:     Number of stock options\n",
        "      current_price:   Current share price\n",
        "      strike_price:    Strike price of options\n",
        "      growth_rate_iqr: Intraquartile range (tuple) of the annual growth rate of the share price\n",
        "      risk_free_rate:  The risk-free growth rate such as the treasury bond yield\n",
        "      num_simulations: Number of simulations to run (defaults to 100,000)\n",
        "      num_years:       Number of years after which to simulate exercising the options\n",
        "\n",
        "    Returns:\n",
        "\n",
        "    \"\"\"\n",
        "    # Calculate the lower and upper bounds of the growth rate based on the IQR\n",
        "    growth_rate_lower = growth_rate_iqr[0]\n",
        "    growth_rate_upper = growth_rate_iqr[1]\n",
        "\n",
        "    # Generate random growth rates within the IQR range for each simulation\n",
        "    growth_rates = iqr_distribution(growth_rate_lower, growth_rate_upper, growth_rate_limits[0], growth_rate_limits[1], size=num_simulations)\n",
        "\n",
        "    # Calculate the share prices at the end of the 5-year period for each simulation\n",
        "    future_prices = current_price * (1 + growth_rates) ** num_years\n",
        "\n",
        "    # Calculate the payoff for each simulation\n",
        "    payoffs = np.maximum(future_prices - strike_price, 0)\n",
        "\n",
        "    # Calculate the expected payoff by taking the average of all simulations\n",
        "    expected_payoff = np.median(payoffs)\n",
        "\n",
        "    # Calculate the present value of the expected payoff using the risk-free rate\n",
        "    npv = expected_payoff * num_options / (1 + risk_free_rate) ** num_years\n",
        "\n",
        "    return npv\n",
        "\n",
        "@functools.lru_cache(maxsize=None)\n",
        "def options_for_target_npv(target_npv, current_price, strike_price, growth_rate_iqr, growth_rate_limits, risk_free_rate=0.05, num_simulations=100000, num_years=YEARS, tolerance=0.01):\n",
        "    \"\"\"\n",
        "    Find the number of options required to achieve a target net present value.\n",
        "\n",
        "    Args:\n",
        "      target_npv:       The desired net present value of the stock option\n",
        "      current_price:    The current share price\n",
        "      strike_price:     The strike price of the option\n",
        "      growth_rate_iqr:  Intraquartile range (tuple) of the annual growth rate of the share price\n",
        "      risk_free_rate:   The risk-free growth rate such as the treasury bond yield\n",
        "      num_simulations:  Number of simulations to run (defaults to 100,000)\n",
        "      num_years:        Number of years after which to simulate exercising the options\n",
        "      tolerance:        The tolerance value for ending our binary search\n",
        "\n",
        "    Returns:\n",
        "\n",
        "    \"\"\"\n",
        "    # Define the range of possible number of options\n",
        "    min_options = 1\n",
        "    max_options = 1000000\n",
        "\n",
        "    while min_options <= max_options:\n",
        "        # Calculate the midpoint of the range\n",
        "        num_options = (min_options + max_options) // 2\n",
        "\n",
        "        # Calculate the NPV for the current number of options\n",
        "        npv = stock_option_npv(num_options, current_price, strike_price, growth_rate_iqr, growth_rate_limits, risk_free_rate, num_simulations, num_years)\n",
        "\n",
        "        # Check if the calculated NPV is within the tolerance range of the target NPV\n",
        "        if abs(npv - target_npv) < tolerance:\n",
        "            return num_options\n",
        "        elif npv < target_npv:\n",
        "            min_options = num_options + 1\n",
        "        else:\n",
        "            max_options = num_options - 1\n",
        "\n",
        "    return num_options"
      ]
    },
    {
      "cell_type": "code",
      "source": [
        "grant_size = options_for_target_npv(TARGET_NPV, SHARE_PRICE, STRIKE_PRICE, GROWTH_IQR, GROWTH_LIMITS, DISCOUNT_RATE)\n",
        "\n",
        "print(f\"To achieve an NPV of ${TARGET_NPV:,.0f} the grant size should be {grant_size:,.0f} shares at ${STRIKE_PRICE:,.2f}/share\")\n",
        "\n",
        "def round_to_nice_number(x):\n",
        "    nice_numbers = [1000, 2500, 5000, 10000, 25000, 50000, 100000]\n",
        "    return min(nice_numbers, key=lambda num: abs(x - num))\n",
        "\n",
        "grant_size = round_to_nice_number(grant_size)\n",
        "print(f\"But we'll use a nice round number: {grant_size:,.0f}, resulting in an NPV of ${quick_npv(grant_size):,.0f}\")\n"
      ],
      "metadata": {
        "colab": {
          "base_uri": "https://localhost:8080/"
        },
        "id": "0h5IrFx7K2ef",
        "outputId": "b56cb5d9-b33a-4409-fb95-f5e36db87d99"
      },
      "execution_count": 2,
      "outputs": [
        {
          "output_type": "stream",
          "name": "stdout",
          "text": [
            "To achieve an NPV of $82,500 the grant size should be 18,710 shares at $5.34/share\n",
            "But we'll use a nice round number: 25,000, resulting in an NPV of $110,234\n"
          ]
        }
      ]
    },
    {
      "cell_type": "code",
      "source": [
        "import matplotlib.pyplot as plt\n",
        "from matplotlib.ticker import FuncFormatter\n",
        "\n",
        "def stock_option_npv_distribution(num_options, current_price, strike_price, growth_rate_iqr, growth_rate_limits, risk_free_rate=0.05, num_simulations=100000, num_years=5):\n",
        "    # Calculate the lower and upper bounds of the growth rate based on the IQR\n",
        "    growth_rate_lower = growth_rate_iqr[0]\n",
        "    growth_rate_upper = growth_rate_iqr[1]\n",
        "    growth_rate_min   = growth_rate_limits[0]\n",
        "    growth_rate_max   = growth_rate_limits[1]\n",
        "\n",
        "    # Generate random growth rates within the IQR range for each simulation\n",
        "    growth_rates = iqr_distribution(growth_rate_lower, growth_rate_upper, growth_rate_min, growth_rate_max, size=num_simulations)\n",
        "\n",
        "    # Calculate the share prices at the end of the 5-year period for each simulation\n",
        "    future_prices = current_price * (1 + growth_rates) ** num_years\n",
        "\n",
        "    # Calculate the payoff for each simulation\n",
        "    payoffs = np.maximum(future_prices - strike_price, 0)\n",
        "\n",
        "    # Calculate the NPV for each simulation\n",
        "    npvs = payoffs * num_options / (1 + risk_free_rate) ** num_years\n",
        "\n",
        "    return npvs\n",
        "\n",
        "# Set the parameters\n",
        "num_options = grant_size\n",
        "num_years = YEARS\n",
        "\n",
        "# Calculate the NPVs for each simulation\n",
        "npvs = stock_option_npv_distribution(num_options, SHARE_PRICE, STRIKE_PRICE, GROWTH_IQR, GROWTH_LIMITS)\n",
        "\n",
        "npv_mean = np.mean(npvs)\n",
        "npv_median = np.median(npvs)\n",
        "npv_25th = np.quantile(npvs, 0.25)\n",
        "npv_75th = np.quantile(npvs, 0.75)\n",
        "\n",
        "count = len(npvs)\n",
        "\n",
        "# Plot the histogram of NPVs\n",
        "plt.figure(figsize=(10, 6))\n",
        "plt.hist(npvs, bins=50, alpha=0.8, color='skyblue', edgecolor='black')\n",
        "plt.axvline(npv_mean, color='red', linestyle='--', label=f'Mean NPV (${npv_mean:,.0f})')\n",
        "plt.axvline(npv_median, color='orange', linestyle='--', label=f'Median NPV (${npv_median:,.0f})')\n",
        "plt.axvline(npv_25th, color='grey', linestyle='--', label=f'25th Percentile NPV (${npv_25th:,.0f})')\n",
        "plt.axvline(npv_75th, color='grey', linestyle='--', label=f'75th Percentile NPV (${npv_75th:,.0f})')\n",
        "plt.axvspan(npv_25th, npv_75th, color='grey', alpha=0.25)\n",
        "\n",
        "plt.gca().xaxis.set_major_formatter(lambda x,pos: f\"${x:,.0f}\")\n",
        "plt.gca().yaxis.set_major_formatter(lambda x,pos: f\"{100*x/count:,.0f}%\")\n",
        "\n",
        "\n",
        "plt.xlabel('NPV')\n",
        "plt.ylabel('Frequency')\n",
        "plt.title(f'Assuming current price of \\${current_price:,.2f}, strike of \\${strike_price:,.2f}, and expiry at {num_years:,.0f} years')\n",
        "plt.suptitle(f'Distribution of NPV for {num_options:,.0f} Options')\n",
        "plt.legend()\n",
        "plt.grid(True)\n",
        "plt.show()"
      ],
      "metadata": {
        "colab": {
          "base_uri": "https://localhost:8080/",
          "height": 741
        },
        "id": "hDiiHEf0cGo6",
        "outputId": "8176a08f-15dc-4cd3-8c72-870930e8644f"
      },
      "execution_count": 3,
      "outputs": [
        {
          "output_type": "error",
          "ename": "NameError",
          "evalue": "name 'current_price' is not defined",
          "traceback": [
            "\u001b[0;31m---------------------------------------------------------------------------\u001b[0m",
            "\u001b[0;31mNameError\u001b[0m                                 Traceback (most recent call last)",
            "\u001b[0;32m<ipython-input-3-5f6e4855f493>\u001b[0m in \u001b[0;36m<cell line: 54>\u001b[0;34m()\u001b[0m\n\u001b[1;32m     52\u001b[0m \u001b[0mplt\u001b[0m\u001b[0;34m.\u001b[0m\u001b[0mxlabel\u001b[0m\u001b[0;34m(\u001b[0m\u001b[0;34m'NPV'\u001b[0m\u001b[0;34m)\u001b[0m\u001b[0;34m\u001b[0m\u001b[0;34m\u001b[0m\u001b[0m\n\u001b[1;32m     53\u001b[0m \u001b[0mplt\u001b[0m\u001b[0;34m.\u001b[0m\u001b[0mylabel\u001b[0m\u001b[0;34m(\u001b[0m\u001b[0;34m'Frequency'\u001b[0m\u001b[0;34m)\u001b[0m\u001b[0;34m\u001b[0m\u001b[0;34m\u001b[0m\u001b[0m\n\u001b[0;32m---> 54\u001b[0;31m \u001b[0mplt\u001b[0m\u001b[0;34m.\u001b[0m\u001b[0mtitle\u001b[0m\u001b[0;34m(\u001b[0m\u001b[0;34mf'Assuming current price of \\${current_price:,.2f}, strike of \\${strike_price:,.2f}, and expiry at {num_years:,.0f} years'\u001b[0m\u001b[0;34m)\u001b[0m\u001b[0;34m\u001b[0m\u001b[0;34m\u001b[0m\u001b[0m\n\u001b[0m\u001b[1;32m     55\u001b[0m \u001b[0mplt\u001b[0m\u001b[0;34m.\u001b[0m\u001b[0msuptitle\u001b[0m\u001b[0;34m(\u001b[0m\u001b[0;34mf'Distribution of NPV for {num_options:,.0f} Options'\u001b[0m\u001b[0;34m)\u001b[0m\u001b[0;34m\u001b[0m\u001b[0;34m\u001b[0m\u001b[0m\n\u001b[1;32m     56\u001b[0m \u001b[0mplt\u001b[0m\u001b[0;34m.\u001b[0m\u001b[0mlegend\u001b[0m\u001b[0;34m(\u001b[0m\u001b[0;34m)\u001b[0m\u001b[0;34m\u001b[0m\u001b[0;34m\u001b[0m\u001b[0m\n",
            "\u001b[0;31mNameError\u001b[0m: name 'current_price' is not defined"
          ]
        },
        {
          "output_type": "display_data",
          "data": {
            "text/plain": [
              "<Figure size 1000x600 with 1 Axes>"
            ],
            "image/png": "[encoded data removed]"
          },
          "metadata": {}
        }
      ]
    },
    {
      "cell_type": "code",
      "source": [
        "# Plot the distribution\n",
        "distribution = iqr_distribution(GROWTH_IQR[0], GROWTH_IQR[1], GROWTH_LIMITS[0], GROWTH_LIMITS[1], size=100000)\n",
        "plt.hist(distribution, bins=50, density=True, alpha=0.6, color='g')\n",
        "plt.title('Distribution of Growth Rates in Simulation')\n",
        "plt.gca().xaxis.set_major_formatter(lambda x,pos: f\"{100*x:,.0f}%\")\n",
        "plt.gca().yaxis.set_major_formatter(lambda x,pos: f\"{x:,.1f}\")\n",
        "plt.axvline(distribution.mean(), color='red', linestyle='--', label=f'Mean ({100*distribution.mean():,.1f}%)')\n",
        "plt.axvline(np.quantile(distribution,0.5), color='orange', linestyle='--', label=f'Median ({100*np.quantile(distribution,0.5):,.1f}%)')\n",
        "plt.axvline(np.quantile(distribution,0.25), color='grey', linestyle='--', label=f'25th Percentile ({100*np.quantile(distribution,0.25):,.1f}%)')\n",
        "plt.axvline(np.quantile(distribution,0.75), color='grey', linestyle='--', label=f'75th Percentile ({100*np.quantile(distribution,0.75):,.1f}%)')\n",
        "plt.axvspan(np.quantile(distribution,0.25), np.quantile(distribution,0.75), color='grey', alpha=0.25)\n",
        "plt.xlabel(f'Simulated Annual Share Price Growth Rate over {YEARS} Years')\n",
        "plt.ylabel('Density')\n",
        "plt.legend()\n",
        "plt.show()"
      ],
      "metadata": {
        "id": "NWc00QzSf312"
      },
      "execution_count": null,
      "outputs": []
    },
    {
      "cell_type": "code",
      "source": [
        "# Generate the option grants for the whole company by reading in a table of employee name and target npv.\n",
        "# Assume there is a column \"full_name\" and \"equity_npv\"\n",
        "import pandas as pd\n",
        "employee_table = pd.read_csv(\"ESOP NPV Calculator.csv\")\n",
        "\n",
        "round_options = lambda npv: round_to_nice_number(quick_options(npv)) if npv else 0\n",
        "employee_table['option_count'] = employee_table['npv'].apply(round_options)\n",
        "employee_table['option_npv'] =   employee_table['option_count'].apply(quick_npv)\n",
        "\n",
        "employee_table[['full_name', 'monthly_pay', 'annual_pay', 'bucket',\n",
        "                'npv_rate', 'npv', 'option_count', 'option_npv']].to_csv(\"ESOP NPV Calculator Final.csv\")\n"
      ],
      "metadata": {
        "id": "QLb15bB75shO"
      },
      "execution_count": null,
      "outputs": []
    },
    {
      "cell_type": "code",
      "source": [
        "quick_npv(50000)"
      ],
      "metadata": {
        "id": "m7OVHrGzGvdQ"
      },
      "execution_count": null,
      "outputs": []
    }
  ]
}